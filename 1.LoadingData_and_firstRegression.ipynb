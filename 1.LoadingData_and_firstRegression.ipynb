{
 "cells": [
  {
   "cell_type": "markdown",
   "metadata": {},
   "source": [
    "# Loading data"
   ]
  },
  {
   "cell_type": "code",
   "execution_count": 1,
   "metadata": {},
   "outputs": [],
   "source": [
    "import numpy as np\n",
    "import pandas as pd\n",
    "import matplotlib.pyplot as plt\n",
    "from sklearn.model_selection import KFold\n",
    "from sklearn.metrics import *\n",
    "\n",
    "%matplotlib inline"
   ]
  },
  {
   "cell_type": "markdown",
   "metadata": {},
   "source": [
    "Firstly, we will load the available data, where the $n-1$ first columns are vectorized images and the last column correspond to an average of the irradiance value. \n",
    "\n",
    "Images were mapped in **HSV** and **Ycrcb** color spaces. Then only **H** and **Y** chanel was takin into account"
   ]
  },
  {
   "cell_type": "code",
   "execution_count": 4,
   "metadata": {},
   "outputs": [
    {
     "name": "stdout",
     "output_type": "stream",
     "text": [
      "(114, 3073)\n"
     ]
    },
    {
     "data": {
      "text/html": [
       "<div>\n",
       "<style scoped>\n",
       "    .dataframe tbody tr th:only-of-type {\n",
       "        vertical-align: middle;\n",
       "    }\n",
       "\n",
       "    .dataframe tbody tr th {\n",
       "        vertical-align: top;\n",
       "    }\n",
       "\n",
       "    .dataframe thead th {\n",
       "        text-align: right;\n",
       "    }\n",
       "</style>\n",
       "<table border=\"1\" class=\"dataframe\">\n",
       "  <thead>\n",
       "    <tr style=\"text-align: right;\">\n",
       "      <th></th>\n",
       "      <th>0.12667</th>\n",
       "      <th>0.13793</th>\n",
       "      <th>0.15278</th>\n",
       "      <th>0.14865</th>\n",
       "      <th>0.16667</th>\n",
       "      <th>0.17157</th>\n",
       "      <th>0.16667.1</th>\n",
       "      <th>0.16667.2</th>\n",
       "      <th>0.16667.3</th>\n",
       "      <th>0.17204</th>\n",
       "      <th>...</th>\n",
       "      <th>0.14167.3</th>\n",
       "      <th>0.14242.1</th>\n",
       "      <th>0.14583.15</th>\n",
       "      <th>0.15278.5</th>\n",
       "      <th>0.15537</th>\n",
       "      <th>0.16667.106</th>\n",
       "      <th>0.1746.3</th>\n",
       "      <th>0.17424.3</th>\n",
       "      <th>0.15805</th>\n",
       "      <th>3.072</th>\n",
       "    </tr>\n",
       "  </thead>\n",
       "  <tbody>\n",
       "    <tr>\n",
       "      <th>0</th>\n",
       "      <td>0.12000</td>\n",
       "      <td>0.10897</td>\n",
       "      <td>0.13725</td>\n",
       "      <td>0.15104</td>\n",
       "      <td>0.14444</td>\n",
       "      <td>0.15000</td>\n",
       "      <td>0.14815</td>\n",
       "      <td>0.14744</td>\n",
       "      <td>0.14352</td>\n",
       "      <td>0.14943</td>\n",
       "      <td>...</td>\n",
       "      <td>0.12667</td>\n",
       "      <td>0.12847</td>\n",
       "      <td>0.12766</td>\n",
       "      <td>0.13605</td>\n",
       "      <td>0.14493</td>\n",
       "      <td>0.15556</td>\n",
       "      <td>0.15625</td>\n",
       "      <td>0.16333</td>\n",
       "      <td>0.14103</td>\n",
       "      <td>3.1360</td>\n",
       "    </tr>\n",
       "    <tr>\n",
       "      <th>1</th>\n",
       "      <td>0.11111</td>\n",
       "      <td>0.12000</td>\n",
       "      <td>0.13021</td>\n",
       "      <td>0.14141</td>\n",
       "      <td>0.13978</td>\n",
       "      <td>0.14943</td>\n",
       "      <td>0.15432</td>\n",
       "      <td>0.14286</td>\n",
       "      <td>0.14762</td>\n",
       "      <td>0.15476</td>\n",
       "      <td>...</td>\n",
       "      <td>0.12500</td>\n",
       "      <td>0.12847</td>\n",
       "      <td>0.13265</td>\n",
       "      <td>0.13667</td>\n",
       "      <td>0.14539</td>\n",
       "      <td>0.15504</td>\n",
       "      <td>0.15603</td>\n",
       "      <td>0.15986</td>\n",
       "      <td>0.14706</td>\n",
       "      <td>2.5603</td>\n",
       "    </tr>\n",
       "    <tr>\n",
       "      <th>2</th>\n",
       "      <td>0.10897</td>\n",
       "      <td>0.12667</td>\n",
       "      <td>0.13889</td>\n",
       "      <td>0.15000</td>\n",
       "      <td>0.15054</td>\n",
       "      <td>0.15054</td>\n",
       "      <td>0.16026</td>\n",
       "      <td>0.15385</td>\n",
       "      <td>0.15238</td>\n",
       "      <td>0.15385</td>\n",
       "      <td>...</td>\n",
       "      <td>0.13441</td>\n",
       "      <td>0.14368</td>\n",
       "      <td>0.14943</td>\n",
       "      <td>0.16092</td>\n",
       "      <td>0.17284</td>\n",
       "      <td>0.17742</td>\n",
       "      <td>0.17172</td>\n",
       "      <td>0.19192</td>\n",
       "      <td>0.16216</td>\n",
       "      <td>1.7960</td>\n",
       "    </tr>\n",
       "    <tr>\n",
       "      <th>3</th>\n",
       "      <td>0.11458</td>\n",
       "      <td>0.13333</td>\n",
       "      <td>0.14352</td>\n",
       "      <td>0.14414</td>\n",
       "      <td>0.15196</td>\n",
       "      <td>0.16129</td>\n",
       "      <td>0.16667</td>\n",
       "      <td>0.16111</td>\n",
       "      <td>0.15766</td>\n",
       "      <td>0.16667</td>\n",
       "      <td>...</td>\n",
       "      <td>0.14414</td>\n",
       "      <td>0.14815</td>\n",
       "      <td>0.15238</td>\n",
       "      <td>0.15766</td>\n",
       "      <td>0.17677</td>\n",
       "      <td>0.17982</td>\n",
       "      <td>0.18651</td>\n",
       "      <td>0.19259</td>\n",
       "      <td>0.16279</td>\n",
       "      <td>1.3520</td>\n",
       "    </tr>\n",
       "    <tr>\n",
       "      <th>4</th>\n",
       "      <td>0.11275</td>\n",
       "      <td>0.11616</td>\n",
       "      <td>0.13596</td>\n",
       "      <td>0.14035</td>\n",
       "      <td>0.14865</td>\n",
       "      <td>0.14706</td>\n",
       "      <td>0.15517</td>\n",
       "      <td>0.15054</td>\n",
       "      <td>0.14815</td>\n",
       "      <td>0.15476</td>\n",
       "      <td>...</td>\n",
       "      <td>0.13514</td>\n",
       "      <td>0.13158</td>\n",
       "      <td>0.14474</td>\n",
       "      <td>0.14474</td>\n",
       "      <td>0.16667</td>\n",
       "      <td>0.17157</td>\n",
       "      <td>0.17568</td>\n",
       "      <td>0.17130</td>\n",
       "      <td>0.15000</td>\n",
       "      <td>1.2510</td>\n",
       "    </tr>\n",
       "  </tbody>\n",
       "</table>\n",
       "<p>5 rows × 3073 columns</p>\n",
       "</div>"
      ],
      "text/plain": [
       "   0.12667  0.13793  0.15278  0.14865  0.16667  0.17157  0.16667.1  0.16667.2  \\\n",
       "0  0.12000  0.10897  0.13725  0.15104  0.14444  0.15000    0.14815    0.14744   \n",
       "1  0.11111  0.12000  0.13021  0.14141  0.13978  0.14943    0.15432    0.14286   \n",
       "2  0.10897  0.12667  0.13889  0.15000  0.15054  0.15054    0.16026    0.15385   \n",
       "3  0.11458  0.13333  0.14352  0.14414  0.15196  0.16129    0.16667    0.16111   \n",
       "4  0.11275  0.11616  0.13596  0.14035  0.14865  0.14706    0.15517    0.15054   \n",
       "\n",
       "   0.16667.3  0.17204   ...    0.14167.3  0.14242.1  0.14583.15  0.15278.5  \\\n",
       "0    0.14352  0.14943   ...      0.12667    0.12847     0.12766    0.13605   \n",
       "1    0.14762  0.15476   ...      0.12500    0.12847     0.13265    0.13667   \n",
       "2    0.15238  0.15385   ...      0.13441    0.14368     0.14943    0.16092   \n",
       "3    0.15766  0.16667   ...      0.14414    0.14815     0.15238    0.15766   \n",
       "4    0.14815  0.15476   ...      0.13514    0.13158     0.14474    0.14474   \n",
       "\n",
       "   0.15537  0.16667.106  0.1746.3  0.17424.3  0.15805   3.072  \n",
       "0  0.14493      0.15556   0.15625    0.16333  0.14103  3.1360  \n",
       "1  0.14539      0.15504   0.15603    0.15986  0.14706  2.5603  \n",
       "2  0.17284      0.17742   0.17172    0.19192  0.16216  1.7960  \n",
       "3  0.17677      0.17982   0.18651    0.19259  0.16279  1.3520  \n",
       "4  0.16667      0.17157   0.17568    0.17130  0.15000  1.2510  \n",
       "\n",
       "[5 rows x 3073 columns]"
      ]
     },
     "execution_count": 4,
     "metadata": {},
     "output_type": "execute_result"
    }
   ],
   "source": [
    "d_Hue = pd.read_csv(\"MatHue.csv\")\n",
    "print d_Hue.shape\n",
    "d_Hue.head()"
   ]
  },
  {
   "cell_type": "code",
   "execution_count": 5,
   "metadata": {},
   "outputs": [
    {
     "name": "stdout",
     "output_type": "stream",
     "text": [
      "(114, 3073)\n"
     ]
    },
    {
     "data": {
      "text/html": [
       "<div>\n",
       "<style scoped>\n",
       "    .dataframe tbody tr th:only-of-type {\n",
       "        vertical-align: middle;\n",
       "    }\n",
       "\n",
       "    .dataframe tbody tr th {\n",
       "        vertical-align: top;\n",
       "    }\n",
       "\n",
       "    .dataframe thead th {\n",
       "        text-align: right;\n",
       "    }\n",
       "</style>\n",
       "<table border=\"1\" class=\"dataframe\">\n",
       "  <thead>\n",
       "    <tr style=\"text-align: right;\">\n",
       "      <th></th>\n",
       "      <th>48</th>\n",
       "      <th>54</th>\n",
       "      <th>62</th>\n",
       "      <th>67</th>\n",
       "      <th>69</th>\n",
       "      <th>69.1</th>\n",
       "      <th>67.1</th>\n",
       "      <th>68</th>\n",
       "      <th>78</th>\n",
       "      <th>66</th>\n",
       "      <th>...</th>\n",
       "      <th>97.64</th>\n",
       "      <th>94.71</th>\n",
       "      <th>98.60</th>\n",
       "      <th>109.29</th>\n",
       "      <th>118.13</th>\n",
       "      <th>131.15</th>\n",
       "      <th>140.12</th>\n",
       "      <th>145.21</th>\n",
       "      <th>114.23</th>\n",
       "      <th>3.072</th>\n",
       "    </tr>\n",
       "  </thead>\n",
       "  <tbody>\n",
       "    <tr>\n",
       "      <th>0</th>\n",
       "      <td>48</td>\n",
       "      <td>52</td>\n",
       "      <td>60</td>\n",
       "      <td>65</td>\n",
       "      <td>68</td>\n",
       "      <td>69</td>\n",
       "      <td>68</td>\n",
       "      <td>68</td>\n",
       "      <td>78</td>\n",
       "      <td>66</td>\n",
       "      <td>...</td>\n",
       "      <td>92</td>\n",
       "      <td>90</td>\n",
       "      <td>93</td>\n",
       "      <td>104</td>\n",
       "      <td>112</td>\n",
       "      <td>123</td>\n",
       "      <td>132</td>\n",
       "      <td>139</td>\n",
       "      <td>113</td>\n",
       "      <td>3.1360</td>\n",
       "    </tr>\n",
       "    <tr>\n",
       "      <th>1</th>\n",
       "      <td>47</td>\n",
       "      <td>50</td>\n",
       "      <td>58</td>\n",
       "      <td>63</td>\n",
       "      <td>65</td>\n",
       "      <td>66</td>\n",
       "      <td>65</td>\n",
       "      <td>65</td>\n",
       "      <td>73</td>\n",
       "      <td>60</td>\n",
       "      <td>...</td>\n",
       "      <td>89</td>\n",
       "      <td>89</td>\n",
       "      <td>93</td>\n",
       "      <td>100</td>\n",
       "      <td>108</td>\n",
       "      <td>116</td>\n",
       "      <td>124</td>\n",
       "      <td>131</td>\n",
       "      <td>113</td>\n",
       "      <td>2.5603</td>\n",
       "    </tr>\n",
       "    <tr>\n",
       "      <th>2</th>\n",
       "      <td>46</td>\n",
       "      <td>48</td>\n",
       "      <td>55</td>\n",
       "      <td>59</td>\n",
       "      <td>61</td>\n",
       "      <td>61</td>\n",
       "      <td>61</td>\n",
       "      <td>61</td>\n",
       "      <td>68</td>\n",
       "      <td>55</td>\n",
       "      <td>...</td>\n",
       "      <td>75</td>\n",
       "      <td>74</td>\n",
       "      <td>76</td>\n",
       "      <td>82</td>\n",
       "      <td>85</td>\n",
       "      <td>100</td>\n",
       "      <td>104</td>\n",
       "      <td>109</td>\n",
       "      <td>97</td>\n",
       "      <td>1.7960</td>\n",
       "    </tr>\n",
       "    <tr>\n",
       "      <th>3</th>\n",
       "      <td>52</td>\n",
       "      <td>55</td>\n",
       "      <td>62</td>\n",
       "      <td>66</td>\n",
       "      <td>67</td>\n",
       "      <td>67</td>\n",
       "      <td>66</td>\n",
       "      <td>66</td>\n",
       "      <td>73</td>\n",
       "      <td>60</td>\n",
       "      <td>...</td>\n",
       "      <td>85</td>\n",
       "      <td>83</td>\n",
       "      <td>87</td>\n",
       "      <td>94</td>\n",
       "      <td>98</td>\n",
       "      <td>115</td>\n",
       "      <td>120</td>\n",
       "      <td>122</td>\n",
       "      <td>103</td>\n",
       "      <td>1.3520</td>\n",
       "    </tr>\n",
       "    <tr>\n",
       "      <th>4</th>\n",
       "      <td>55</td>\n",
       "      <td>58</td>\n",
       "      <td>67</td>\n",
       "      <td>71</td>\n",
       "      <td>72</td>\n",
       "      <td>72</td>\n",
       "      <td>71</td>\n",
       "      <td>71</td>\n",
       "      <td>77</td>\n",
       "      <td>62</td>\n",
       "      <td>...</td>\n",
       "      <td>94</td>\n",
       "      <td>92</td>\n",
       "      <td>95</td>\n",
       "      <td>99</td>\n",
       "      <td>102</td>\n",
       "      <td>121</td>\n",
       "      <td>124</td>\n",
       "      <td>126</td>\n",
       "      <td>108</td>\n",
       "      <td>1.2510</td>\n",
       "    </tr>\n",
       "  </tbody>\n",
       "</table>\n",
       "<p>5 rows × 3073 columns</p>\n",
       "</div>"
      ],
      "text/plain": [
       "   48  54  62  67  69  69.1  67.1  68  78  66   ...    97.64  94.71  98.60  \\\n",
       "0  48  52  60  65  68    69    68  68  78  66   ...       92     90     93   \n",
       "1  47  50  58  63  65    66    65  65  73  60   ...       89     89     93   \n",
       "2  46  48  55  59  61    61    61  61  68  55   ...       75     74     76   \n",
       "3  52  55  62  66  67    67    66  66  73  60   ...       85     83     87   \n",
       "4  55  58  67  71  72    72    71  71  77  62   ...       94     92     95   \n",
       "\n",
       "   109.29  118.13  131.15  140.12  145.21  114.23   3.072  \n",
       "0     104     112     123     132     139     113  3.1360  \n",
       "1     100     108     116     124     131     113  2.5603  \n",
       "2      82      85     100     104     109      97  1.7960  \n",
       "3      94      98     115     120     122     103  1.3520  \n",
       "4      99     102     121     124     126     108  1.2510  \n",
       "\n",
       "[5 rows x 3073 columns]"
      ]
     },
     "execution_count": 5,
     "metadata": {},
     "output_type": "execute_result"
    }
   ],
   "source": [
    "d_YCrCb = pd.read_csv(\"YMat.csv\")\n",
    "print d_YCrCb.shape\n",
    "d_YCrCb.head()"
   ]
  },
  {
   "cell_type": "markdown",
   "metadata": {},
   "source": [
    "Split data in features **X** and label **y**"
   ]
  },
  {
   "cell_type": "code",
   "execution_count": 7,
   "metadata": {},
   "outputs": [],
   "source": [
    "X_Hue = d_Hue.values[:,:-1]\n",
    "y_Hue = d_Hue.values[:,-1]"
   ]
  },
  {
   "cell_type": "code",
   "execution_count": 8,
   "metadata": {},
   "outputs": [],
   "source": [
    "X_YCrCb = d_YCrCb.values[:,:-1]\n",
    "y_YCrCb = d_YCrCb.values[:,-1]"
   ]
  },
  {
   "cell_type": "code",
   "execution_count": 11,
   "metadata": {},
   "outputs": [
    {
     "data": {
      "text/plain": [
       "[<matplotlib.lines.Line2D at 0x7f931f74a190>]"
      ]
     },
     "execution_count": 11,
     "metadata": {},
     "output_type": "execute_result"
    },
    {
     "data": {
      "image/png": "[encoded data removed]",
      "text/plain": [
       "<matplotlib.figure.Figure at 0x7f931f838890>"
      ]
     },
     "metadata": {},
     "output_type": "display_data"
    }
   ],
   "source": [
    "plt.plot(y_Hue)"
   ]
  },
  {
   "cell_type": "markdown",
   "metadata": {},
   "source": [
    "Using a Desicion tree"
   ]
  },
  {
   "cell_type": "code",
   "execution_count": 19,
   "metadata": {},
   "outputs": [
    {
     "name": "stdout",
     "output_type": "stream",
     "text": [
      "R-MSE Hue 1.210 (+/- 1.13612)\n",
      "R-MSE YCrCb 0.338 (+/- 0.06181)\n"
     ]
    }
   ],
   "source": [
    "from sklearn.tree import DecisionTreeRegressor\n",
    "from sklearn.model_selection import cross_val_score\n",
    "est = DecisionTreeRegressor()\n",
    "s_Hue = cross_val_score(est, X_Hue, y_Hue, cv=KFold(10, shuffle=True), scoring=make_scorer(mean_squared_error))\n",
    "print \"R-MSE Hue %.3f (+/- %.5f)\"%(np.sqrt(np.mean(s_Hue)), np.std(s_Hue))\n",
    "s_YCrCb = cross_val_score(est, X_YCrCb, y_YCrCb, cv=KFold(10, shuffle=True), scoring=make_scorer(mean_squared_error))\n",
    "print \"R-MSE YCrCb %.3f (+/- %.5f)\"%(np.sqrt(np.mean(s_YCrCb)), np.std(s_YCrCb))"
   ]
  },
  {
   "cell_type": "markdown",
   "metadata": {},
   "source": [
    "Using a SVM"
   ]
  },
  {
   "cell_type": "code",
   "execution_count": 20,
   "metadata": {},
   "outputs": [
    {
     "name": "stdout",
     "output_type": "stream",
     "text": [
      "R-MSE Hue 1.458 (+/- 0.93932)\n",
      "R-MSE YCrCb 1.481 (+/- 1.27759)\n"
     ]
    }
   ],
   "source": [
    "from sklearn.svm import SVR\n",
    "est = SVR()\n",
    "s_Hue = cross_val_score(est, X_Hue, y_Hue, cv=KFold(10, shuffle=True), scoring=make_scorer(mean_squared_error))\n",
    "print \"R-MSE Hue %.3f (+/- %.5f)\"%(np.sqrt(np.mean(s_Hue)), np.std(s_Hue))\n",
    "s_YCrCb = cross_val_score(est, X_YCrCb, y_YCrCb, cv=KFold(10, shuffle=True), scoring=make_scorer(mean_squared_error))\n",
    "print \"R-MSE YCrCb %.3f (+/- %.5f)\"%(np.sqrt(np.mean(s_YCrCb)), np.std(s_YCrCb))"
   ]
  },
  {
   "cell_type": "markdown",
   "metadata": {},
   "source": [
    "A little more specific with respect local data results..."
   ]
  },
  {
   "cell_type": "code",
   "execution_count": 23,
   "metadata": {},
   "outputs": [
    {
     "name": "stdout",
     "output_type": "stream",
     "text": [
      "R- MSE 0.333\n"
     ]
    }
   ],
   "source": [
    "n =int(len(d)*0.7) \n",
    "est = DecisionTreeRegressor()\n",
    "perm = np.random.permutation(len(d_Hue))\n",
    "\n",
    "Xtr_YCrCb, ytr_YCrCb = X_YCrCb[perm[:n]], y_YCrCb[perm[:n]]\n",
    "Xts_YCrCb, yts_YCrCb = X_YCrCb[perm[n:]], y_YCrCb[perm[n:]]\n",
    "\n",
    "est.fit(Xtr_YCrCb, ytr_YCrCb)\n",
    "print \"R- MSE %.3f\"% np.sqrt(mean_squared_error(yts_YCrCb, est.predict(Xts_YCrCb)))"
   ]
  },
  {
   "cell_type": "code",
   "execution_count": 35,
   "metadata": {},
   "outputs": [
    {
     "data": {
      "image/png": "[encoded data removed]",
      "text/plain": [
       "<matplotlib.figure.Figure at 0x7f931cb6b950>"
      ]
     },
     "metadata": {},
     "output_type": "display_data"
    }
   ],
   "source": [
    "plt.plot(yts_YCrCb,  label='observation')\n",
    "plt.plot( est.predict(Xts_YCrCb), label='prediction')\n",
    "plt.legend()\n",
    "plt.show()"
   ]
  },
  {
   "cell_type": "code",
   "execution_count": 36,
   "metadata": {},
   "outputs": [
    {
     "data": {
      "image/png": "[encoded data removed]",
      "text/plain": [
       "<matplotlib.figure.Figure at 0x7f931cc182d0>"
      ]
     },
     "metadata": {},
     "output_type": "display_data"
    }
   ],
   "source": [
    "plt.plot(yts_YCrCb, 'o', label='observation')\n",
    "plt.plot( est.predict(Xts_YCrCb), 'o', label='prediction')\n",
    "plt.legend()\n",
    "plt.show()"
   ]
  },
  {
   "cell_type": "code",
   "execution_count": 25,
   "metadata": {},
   "outputs": [
    {
     "data": {
      "text/plain": [
       "Text(0.5,1,u'showing only some random 35 test elements (BLACK line is error)')"
      ]
     },
     "execution_count": 25,
     "metadata": {},
     "output_type": "execute_result"
    },
    {
     "data": {
      "image/png": "[encoded data removed]",
      "text/plain": [
       "<matplotlib.figure.Figure at 0x7f931ce64c10>"
      ]
     },
     "metadata": {},
     "output_type": "display_data"
    }
   ],
   "source": [
    "plt.figure(figsize=(20,3))\n",
    "preds = est.predict(Xts_YCrCb)\n",
    "errs  = np.abs(yts_YCrCb - preds)\n",
    "perm = np.random.permutation(range(len(yts_YCrCb)))[:40]\n",
    "plt.bar(range(len(perm)), yts_YCrCb[perm], 0.5, yerr = errs[perm], color=\"blue\", alpha=.5)\n",
    "plt.xlim(-1,len(perm))\n",
    "plt.title(\"showing only some random %d test elements (BLACK line is error)\"%len(perm))"
   ]
  }
 ],
 "metadata": {
  "kernelspec": {
   "display_name": "Python 2",
   "language": "python",
   "name": "python2"
  },
  "language_info": {
   "codemirror_mode": {
    "name": "ipython",
    "version": 2
   },
   "file_extension": ".py",
   "mimetype": "text/x-python",
   "name": "python",
   "nbconvert_exporter": "python",
   "pygments_lexer": "ipython2",
   "version": "2.7.14"
  }
 },
 "nbformat": 4,
 "nbformat_minor": 2
}
